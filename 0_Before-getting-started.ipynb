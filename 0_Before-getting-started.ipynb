{
 "cells": [
  {
   "cell_type": "markdown",
   "metadata": {},
   "source": [
    "# Welcome to Introduction to Statistics using Python"
   ]
  },
  {
   "cell_type": "markdown",
   "metadata": {},
   "source": [
    "This course will teach you the basics of Statistics, essential Python knowledge, Python Modules, minimal Linear Algebra, and minimal Data analysis to get you started on using Statistics with Python."
   ]
  },
  {
   "cell_type": "markdown",
   "metadata": {},
   "source": [
    "To help you learn and practice Statistics with Python we'll learn from the basic Statistics lessons and solve problems via Homework from the [Your Stat Class](https://www.yourstatclass.com/).\n",
    "\n",
    "The lessons are provided here: [The Wonderful World of Statistics, 2nd Edition](https://www.yourstatclass.com/free-elementary-statistics-textbook), each lesson is taught on a pdf file per lesson.\n",
    "\n",
    "Homeworks to help you practice with the lessons: [Need Practice?](https://www.yourstatclass.com/homework)\n",
    "\n",
    "There videos on how to do the problems mathematically but not how to write them in code: [Watch Our Videos!](https://www.yourstatclass.com/help-videos). They link to YouTube videos on the [Your Stat Class](https://www.youtube.com/channel/UC_IxAOTzKNBkiR5-SD9kCmg) channel."
   ]
  },
  {
   "cell_type": "markdown",
   "metadata": {},
   "source": [
    "This course will cover how to do the problems in Python when see get to the Statistics lessons."
   ]
  },
  {
   "cell_type": "markdown",
   "metadata": {},
   "source": [
    "## Installations"
   ]
  },
  {
   "cell_type": "markdown",
   "metadata": {},
   "source": [
    "If you can read this Python Notebook then you must have install Jupyter or an equivalent software to read this `.ipynb` file."
   ]
  },
  {
   "cell_type": "markdown",
   "metadata": {},
   "source": [
    "### MacOS/Unix/Linux"
   ]
  },
  {
   "cell_type": "markdown",
   "metadata": {},
   "source": [
    "If you are using an MacOS or Linux Operating System you may use the [Python Venv](https://docs.python.org/3.8/library/venv.html) folder in this directory \\(Where you are reading this file!\\)."
   ]
  },
  {
   "cell_type": "markdown",
   "metadata": {},
   "source": [
    "To activate the environment type this command: `source ./learn-stats-python/bin/activate` \\(Assuming you are using the BASH environment\\)"
   ]
  },
  {
   "cell_type": "markdown",
   "metadata": {},
   "source": [
    "### Windows"
   ]
  },
  {
   "cell_type": "markdown",
   "metadata": {},
   "source": [
    "If you are using a Windows Environment then ***YOU NEED*** to make sure you have created a Python Virutal Environment."
   ]
  },
  {
   "cell_type": "markdown",
   "metadata": {},
   "source": [
    "You can use either [Python Venv](https://docs.python.org/3.8/library/venv.html) or [Virtualenv](https://virtualenv.pypa.io/en/stable/)"
   ]
  },
  {
   "cell_type": "markdown",
   "metadata": {},
   "source": [
    "I find that using [Python Venv](https://docs.python.org/3.8/library/venv.html) lets Visual Studio Code automatically finds the Python Environment and lets you use it. If you use Visual Studio Code."
   ]
  },
  {
   "cell_type": "markdown",
   "metadata": {},
   "source": [
    "Once you have created your Virutal Environment place this `.ipynb` file and other files and folders \\(Except for the `learn-stats-python` folder\\) in your Virtual Environment that was with this `.ipynb` file."
   ]
  },
  {
   "cell_type": "markdown",
   "metadata": {},
   "source": [
    "Activate your Virtual Environment, if you have `pip3` you can use the command: `pip install -r requirements.txt`"
   ]
  },
  {
   "cell_type": "markdown",
   "metadata": {},
   "source": [
    "Otherwise you have to manually install into your Python environment: `matplotlib`, `seaborn`, `numpy`, `pandas`, `statsmodels`."
   ]
  },
  {
   "cell_type": "markdown",
   "metadata": {},
   "source": [
    "## Testing imports"
   ]
  },
  {
   "cell_type": "markdown",
   "metadata": {},
   "source": [
    "There should be no error importing these modules now. If there are check you Python Environment and make sure you've installed the modules: `matplotlib`, `seaborn`, `numpy`, `pandas`, `statsmodels`."
   ]
  },
  {
   "cell_type": "code",
   "execution_count": 1,
   "metadata": {},
   "outputs": [],
   "source": [
    "import numpy as np\n",
    "import pandas as pd\n",
    "import matplotlib.pyplot as plt\n",
    "import seaborn as sns\n",
    "import statsmodels as sm"
   ]
  },
  {
   "cell_type": "markdown",
   "metadata": {},
   "source": [
    "See you in the next lesson!"
   ]
  }
 ],
 "metadata": {
  "kernelspec": {
   "display_name": "Python 3",
   "language": "python",
   "name": "python3"
  },
  "language_info": {
   "codemirror_mode": {
    "name": "ipython",
    "version": 3
   },
   "file_extension": ".py",
   "mimetype": "text/x-python",
   "name": "python",
   "nbconvert_exporter": "python",
   "pygments_lexer": "ipython3",
   "version": "3.8.1"
  }
 },
 "nbformat": 4,
 "nbformat_minor": 4
}
